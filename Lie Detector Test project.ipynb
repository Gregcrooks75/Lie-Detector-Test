{
 "cells": [
  {
   "cell_type": "markdown",
   "metadata": {},
   "source": [
    "# Deep dive into Computational Psychology: Creating a lie detector test using a Convolutional Neural Network and Logistic Regression\n",
    "\n",
    "\n"
   ]
  },
  {
   "cell_type": "markdown",
   "metadata": {},
   "source": [
    "Using Convolutional Neural Networks (CNN) and Logistic Regression model to detect concealed information (\"lying\"). The data is extracted from Wiese et al (2021), and looks at neuronal activity for a set of given participants. 3 labels: Unfamiliar when the participant truthfully does not recognize the person in the image, Familiar when the participant truthfully recognizes the person in the image, and Lying when the person is untruthful about his familiarity with the individual in the image."
   ]
  },
  {
   "cell_type": "markdown",
   "metadata": {},
   "source": [
    "# Table of Contents"
   ]
  },
  {
   "cell_type": "markdown",
   "metadata": {},
   "source": [
    "1. <ins>Data Cleaning</ins>\n",
    "2. <ins>Logistic Regression Model</ins>\n",
    "3. <ins>Convolutional Neural Network (CNN) Model</ins>\n",
    "4. <ins>Comparative Analysis</ins>\n"
   ]
  },
  {
   "cell_type": "markdown",
   "metadata": {},
   "source": [
    "# 1. Data Cleaning\n",
    "\n"
   ]
  },
  {
   "cell_type": "markdown",
   "metadata": {},
   "source": [
    "### Importing Libraries"
   ]
  },
  {
   "cell_type": "code",
   "execution_count": 2,
   "metadata": {},
   "outputs": [],
   "source": [
    "import pandas as pd\n",
    "import os\n",
    "import glob\n",
    "import numpy as np\n",
    "from numpy import loadtxt\n",
    "from openpyxl import load_workbook"
   ]
  },
  {
   "cell_type": "markdown",
   "metadata": {},
   "source": [
    "### Loading Data"
   ]
  },
  {
   "cell_type": "markdown",
   "metadata": {},
   "source": [
    "The data comprises of 19 patients and 3 excel files each: one for the neuronal activity when the patient is unfamiliar, one highlighting the neuronal activity when the patient is familiar, and one highlighting the neuronal activity when the patient is lying. We have a total of 57 excel files (3 * 19)."
   ]
  },
  {
   "cell_type": "code",
   "execution_count": 3,
   "metadata": {},
   "outputs": [],
   "source": [
    "# Define paths to the directories containing the data files\n",
    "path_unfamiliar = \"/Users/gregorycrooks/Desktop/Dissertation Data/Unfamiliar\"\n",
    "path_lying = \"/Users/gregorycrooks/Desktop/Dissertation Data/Lying\"\n",
    "path_true = \"/Users/gregorycrooks/Desktop/Dissertation Data/True\"\n",
    "\n",
    "# Get sorted lists of all CSV files in each directory\n",
    "csv_files_unfamiliar = np.sort(glob.glob(os.path.join(path_unfamiliar, \"*.csv\")))\n",
    "csv_files_lying = np.sort(glob.glob(os.path.join(path_lying, \"*.csv\")))\n",
    "csv_files_true = np.sort(glob.glob(os.path.join(path_true, \"*.csv\")))\n"
   ]
  },
  {
   "cell_type": "markdown",
   "metadata": {},
   "source": [
    "### Downsampling Data"
   ]
  },
  {
   "cell_type": "markdown",
   "metadata": {},
   "source": [
    "- In the experiment, each participant looks at 25 to 40 images (expressed as trials). In the datasets showing the neuronal activity, each trial is 614 rows. If a participant looks at 40 images, then the excel file has 24 560 rows. This represents a significant amount of computational space, since we have 57 files. \n",
    "\n",
    "- To reduce dimensionality, we calculate the mean for every ∼61.4 rows (or every 1/10 of a trial, or ∼0.12s) and created a new datapoint. This reduces dimensionality by 61.4."
   ]
  },
  {
   "cell_type": "code",
   "execution_count": 4,
   "metadata": {},
   "outputs": [],
   "source": [
    "# Suppress warnings to keep the output clean\n",
    "import warnings\n",
    "warnings.filterwarnings(\"ignore\")\n",
    "\n",
    "# Define a function to load and process EEG data files\n",
    "def load_file(path, participant_ind, filter=[\"TP9\", \"TP10\", \"P9\", \"P10\"]):\n",
    "    # Read data from the file, skipping the first row\n",
    "    data = pd.read_fwf(path, skiprows = 1)\n",
    "    out = []\n",
    "\n",
    "    dfs_out = []\n",
    "    # Split data into trials of 614 rows each\n",
    "    for ind, i in enumerate(range((data.shape[0]+614)//614)):\n",
    "        out += [i+1]*614\n",
    "\n",
    "        start_value = i*614\n",
    "        end_value = start_value+610\n",
    "\n",
    "        # Select the current trial segment\n",
    "        df = data.iloc[start_value:end_value]\n",
    "        # Assign trial index and participant ID\n",
    "        df.iloc[:][\"trial_ind\"] = i+1\n",
    "        df['participant_id'] = participant_ind\n",
    "        dfs_out.append(df)\n",
    "        \n",
    "    # Concatenate all trial segments\n",
    "    data = pd.concat(dfs_out)\n",
    "    # Initialize a new dictionary to store downsampled data\n",
    "    new_df = {column:[] for column in data.columns}\n",
    "\n",
    "    # Downsample the data by averaging every 61 rows\n",
    "    for i in range(data.shape[0]//61):\n",
    "        if i*61+61>data.shape[0]:\n",
    "            break\n",
    "\n",
    "        temp_data = data.iloc[i*61:i*61+61, :].mean(axis=0)\n",
    "        \n",
    "        # Append the mean values to the new dictionary\n",
    "        for item in temp_data.index:\n",
    "            new_df[item].append(temp_data[item])\n",
    "    \n",
    "    # Return a DataFrame with downsampled data, retaining only specified channels\n",
    "    return pd.DataFrame.from_dict(new_df)[filter]\n"
   ]
  },
  {
   "cell_type": "markdown",
   "metadata": {},
   "source": [
    "### Data Transformation "
   ]
  },
  {
   "cell_type": "code",
   "execution_count": 5,
   "metadata": {},
   "outputs": [
    {
     "name": "stdout",
     "output_type": "stream",
     "text": [
      "Unfamiliar: 18/19\n",
      "Lying: 18/19\n",
      "True: 18/19\n"
     ]
    }
   ],
   "source": [
    "# Initialize a list to store the processed data for unfamiliar condition\n",
    "unfamiliar_data = []\n",
    "# Loop through each file path in the unfamiliar category\n",
    "for ind, path in enumerate(csv_files_unfamiliar):\n",
    "    # Print progress of loading unfamiliar data\n",
    "    print(F'\\rUnfamiliar: {ind}/{len(csv_files_unfamiliar)}', end='')\n",
    "    # Load and process the file, then append to the list\n",
    "    unfamiliar_data.append(load_file(path, ind+1))\n",
    "print('')\n",
    "\n",
    "# Initialize a list to store the processed data for lying condition\n",
    "lying_data = []\n",
    "# Loop through each file path in the lying category\n",
    "for ind, path in enumerate(csv_files_lying):\n",
    "    # Print progress of loading lying data\n",
    "    print(F'\\rLying: {ind}/{len(csv_files_lying)}', end='')\n",
    "    # Load and process the file, then append to the list\n",
    "    lying_data.append(load_file(path, ind+1))\n",
    "print('')\n",
    "\n",
    "# Initialize a list to store the processed data for true condition\n",
    "true_data = []\n",
    "# Loop through each file path in the true category\n",
    "for ind, path in enumerate(csv_files_true):\n",
    "    # Print progress of loading true data\n",
    "    print(F'\\rTrue: {ind}/{len(csv_files_true)}', end='')\n",
    "    # Load and process the file, then append to the list\n",
    "    true_data.append(load_file(path, ind+1))\n",
    "print('')\n"
   ]
  },
  {
   "cell_type": "markdown",
   "metadata": {},
   "source": [
    "### Splitting Data into Training and Testing sets"
   ]
  },
  {
   "cell_type": "markdown",
   "metadata": {},
   "source": [
    "Data is split by excel files rather than samples: 10 documents for the unfamiliar training set, 9 documents for the unfamiliar testing set, 10 documents for the lying training set, 9 documents for the lying testing set, 10 documents for the true training set, 9 documents for the true testing set. This specific split is done to ensure that all the images are taken into account in each respective split."
   ]
  },
  {
   "cell_type": "code",
   "execution_count": 6,
   "metadata": {},
   "outputs": [],
   "source": [
    "split_value = 10\n",
    "\n",
    "unfamiliar_train, unfamiliar_test = unfamiliar_data[:split_value], unfamiliar_data[split_value:] \n",
    "lying_train, lying_test = lying_data[:split_value], lying_data[split_value:] \n",
    "true_train, true_test = true_data[:split_value], true_data[split_value:] "
   ]
  },
  {
   "cell_type": "markdown",
   "metadata": {},
   "source": [
    "# 2. Logistic Regression Model"
   ]
  },
  {
   "cell_type": "markdown",
   "metadata": {},
   "source": [
    "### Preparing Data for Logistic Regression"
   ]
  },
  {
   "cell_type": "code",
   "execution_count": 7,
   "metadata": {},
   "outputs": [],
   "source": [
    "from matplotlib import pyplot as plt\n",
    "import numpy as np\n",
    "\n",
    "# Function to process data\n",
    "def process_data(unfamiliar_data, lying_data, true_data, label_unfamiliar=0, label_lying=1, label_true=2):\n",
    "    # Stack and label unfamiliar data\n",
    "    X_unf = np.vstack(unfamiliar_data)\n",
    "    X_unf = np.hstack((X_unf, np.full((X_unf.shape[0], 1), label_unfamiliar)))\n",
    "\n",
    "    # Stack and label lying data\n",
    "    X_lying = np.vstack(lying_data)\n",
    "    X_lying = np.hstack((X_lying, np.full((X_lying.shape[0], 1), label_lying)))\n",
    "\n",
    "    # Stack and label true data\n",
    "    X_true = np.vstack(true_data)\n",
    "    X_true = np.hstack((X_true, np.full((X_true.shape[0], 1), label_true)))\n",
    "\n",
    "    # Combine all data\n",
    "    data = np.vstack((X_unf, X_lying, X_true))\n",
    "    X = data[:, :-1]\n",
    "    y = data[:, -1]\n",
    "    return X, y\n",
    "\n",
    "# Process training data\n",
    "X_train, y_train = process_data(unfamiliar_train, lying_train, true_train)\n",
    "\n",
    "# Process test data\n",
    "X_test, y_test = process_data(unfamiliar_test, lying_test, true_test)\n"
   ]
  },
  {
   "cell_type": "markdown",
   "metadata": {},
   "source": [
    "### Logistic Regression Model 1"
   ]
  },
  {
   "cell_type": "markdown",
   "metadata": {},
   "source": [
    "We find that the Logistic Regression Model has pretty low accuracy when predicting labels. Although the model does correctly predict the \"unfamiliar\" label most of the times, we find an imbalance and over prediction on that label.\n"
   ]
  },
  {
   "cell_type": "code",
   "execution_count": 11,
   "metadata": {},
   "outputs": [
    {
     "name": "stdout",
     "output_type": "stream",
     "text": [
      "Logistic Regression is 35.125881 percent accurate\n"
     ]
    }
   ],
   "source": [
    "# Import necessary libraries for Logistic Regression, data visualization, and accuracy scoring\n",
    "from sklearn.linear_model import LogisticRegression\n",
    "import seaborn as sns\n",
    "from sklearn.metrics import accuracy_score\n",
    "from sklearn.metrics import confusion_matrix\n",
    "\n",
    "# Initialize Logistic Regression model\n",
    "LR = LogisticRegression()\n",
    "\n",
    "# Fit the Logistic Regression model using the training data\n",
    "LR_fit = LR.fit(X_train, y_train)\n",
    "\n",
    "# Predict the labels for the test data\n",
    "LR_pred = LR_fit.predict(X_test)\n",
    "\n",
    "# Calculate and print the accuracy of the Logistic Regression model\n",
    "print(\"Logistic Regression is %f percent accurate\" % (accuracy_score(LR_pred, y_test)*100))\n",
    "\n",
    "# The following section classifies each millisecond, then takes the average over each millisecond\n"
   ]
  },
  {
   "cell_type": "markdown",
   "metadata": {},
   "source": [
    "### Confusion Matrix for Logistic Regression Model 1"
   ]
  },
  {
   "cell_type": "code",
   "execution_count": 12,
   "metadata": {},
   "outputs": [
    {
     "data": {
      "image/png": "[encoded data removed]",
      "text/plain": [
       "<Figure size 432x288 with 2 Axes>"
      ]
     },
     "metadata": {
      "needs_background": "light"
     },
     "output_type": "display_data"
    }
   ],
   "source": [
    "# Compute the confusion matrix\n",
    "cf_matrix_lr = confusion_matrix(y_test, LR_pred)\n",
    "\n",
    "# Plot the confusion matrix\n",
    "ax = plt.subplot()\n",
    "sns.heatmap(cf_matrix_lr / np.sum(cf_matrix_lr), annot=True, fmt='.2%', cmap='Blues')\n",
    "ax.set_xlabel('Predicted labels')\n",
    "ax.set_ylabel('True labels')\n",
    "ax.set_title('Confusion Matrix of Logistic Regression')\n",
    "ax.xaxis.set_ticklabels(['Unfamiliar', 'Lie', 'True'])\n",
    "ax.yaxis.set_ticklabels(['Unfamiliar', 'Lie', 'True'])\n",
    "plt.show()"
   ]
  },
  {
   "cell_type": "markdown",
   "metadata": {},
   "source": [
    "### Logistic Regression Model 2"
   ]
  },
  {
   "cell_type": "markdown",
   "metadata": {},
   "source": [
    "This other Logistic Regression Model  predicts each millisecond, but for each participant, it takes the mode for that participant of every millisecond so the most frequently predicted value, and uses that value to classify that participant into lying, unfamiliar, true."
   ]
  },
  {
   "cell_type": "code",
   "execution_count": 19,
   "metadata": {},
   "outputs": [],
   "source": [
    "# Import the stats module from scipy for statistical functions\n",
    "from scipy import stats\n",
    "\n",
    "# Group the test data for all categories (unfamiliar, lying, true)\n",
    "X_test_grouped = unfamiliar_test + lying_test + true_test\n",
    "\n",
    "# Initialize an empty list to store predictions\n",
    "preds = []\n",
    "\n",
    "# Create labels corresponding to the test data categories\n",
    "labels = [0] * len(unfamiliar_test) + [1] * len(lying_test) + [2] * len(true_test)\n",
    "\n",
    "# Ensure the test data is grouped again for clarity\n",
    "X_test_grouped = unfamiliar_test + lying_test + true_test\n",
    "\n",
    "# Initialize the predictions list again for clarity\n",
    "preds = []\n",
    "\n",
    "# Assign labels corresponding to the test data categories again for clarity\n",
    "labels = [0] * len(unfamiliar_test) + [1] * len(lying_test) + [2] * len(true_test)\n",
    "\n",
    "# Loop through each item in the grouped test data and its corresponding label\n",
    "for item, label in zip(X_test_grouped, labels):\n",
    "    # Predict the label for each item using the trained Logistic Regression model\n",
    "    # Use the mode of the predictions to classify each item\n",
    "    preds.append(stats.mode(LR_fit.predict(item))[0][0])\n"
   ]
  },
  {
   "cell_type": "code",
   "execution_count": 20,
   "metadata": {},
   "outputs": [
    {
     "name": "stdout",
     "output_type": "stream",
     "text": [
      "Prediction: 0.0, label: 0\n",
      "Prediction: 0.0, label: 0\n",
      "Prediction: 0.0, label: 0\n",
      "Prediction: 0.0, label: 0\n",
      "Prediction: 0.0, label: 0\n",
      "Prediction: 0.0, label: 0\n",
      "Prediction: 0.0, label: 0\n",
      "Prediction: 2.0, label: 0\n",
      "Prediction: 2.0, label: 0\n",
      "Prediction: 0.0, label: 1\n",
      "Prediction: 2.0, label: 1\n",
      "Prediction: 2.0, label: 1\n",
      "Prediction: 0.0, label: 1\n",
      "Prediction: 0.0, label: 1\n",
      "Prediction: 0.0, label: 1\n",
      "Prediction: 1.0, label: 1\n",
      "Prediction: 2.0, label: 1\n",
      "Prediction: 2.0, label: 1\n",
      "Prediction: 0.0, label: 2\n",
      "Prediction: 2.0, label: 2\n",
      "Prediction: 2.0, label: 2\n",
      "Prediction: 0.0, label: 2\n",
      "Prediction: 0.0, label: 2\n",
      "Prediction: 0.0, label: 2\n",
      "Prediction: 1.0, label: 2\n",
      "Prediction: 2.0, label: 2\n",
      "Prediction: 2.0, label: 2\n",
      "accuracy: 44.44444444444444%\n"
     ]
    }
   ],
   "source": [
    "for pred, label in zip(preds, labels):\n",
    "    print(f\"Prediction: {pred}, label: {label}\")\n",
    "    pass\n",
    "accuracy = (np.array(preds)==np.array(labels)).mean()*100\n",
    "print(f\"accuracy: {accuracy}%\")"
   ]
  },
  {
   "cell_type": "markdown",
   "metadata": {},
   "source": [
    "### Confusion Matrix for Logistic Regression Model 2"
   ]
  },
  {
   "cell_type": "markdown",
   "metadata": {},
   "source": [
    "The limitation with this model is that a participant with more Lying trials will be more likely to have a Lying label in the logistic regression model. As a result, the number of trials for each given condition correlates with higher probability of this condition being predicted in a logistic regression model, which can be arbitrary. For instance, the average number of trials for the Lying condition is the lowest out of the 3 with an average of 35.8 on average, which implies the Lying label will rarely be predicted. This can be seen on the Confusion Matrix, since the Lying label has a very low prediction rate, accurate or inaccurate (7.40% of prediction rate). The overall model itself is accurate with an overall 44.44% accuracy, surpassing the accuracy score of the first Logistic regression\n",
    "model. "
   ]
  },
  {
   "cell_type": "code",
   "execution_count": 21,
   "metadata": {},
   "outputs": [
    {
     "data": {
      "text/plain": [
       "[Text(0, 0.5, 'Unfamiliar'), Text(0, 1.5, 'Lie'), Text(0, 2.5, 'True')]"
      ]
     },
     "execution_count": 21,
     "metadata": {},
     "output_type": "execute_result"
    },
    {
     "data": {
      "image/png": "[encoded data removed]",
      "text/plain": [
       "<Figure size 432x288 with 2 Axes>"
      ]
     },
     "metadata": {
      "needs_background": "light"
     },
     "output_type": "display_data"
    }
   ],
   "source": [
    "from sklearn.metrics import confusion_matrix\n",
    "import seaborn as sns\n",
    "import matplotlib.pyplot as plt     \n",
    "\n",
    "ax= plt.subplot()\n",
    "cf_matrix_lr = confusion_matrix(labels, preds)\n",
    "sns.heatmap(cf_matrix_lr/np.sum(cf_matrix_lr), annot=True, \n",
    "            fmt='.2%', cmap='Blues')\n",
    "ax.set_xlabel('Predicted labels');ax.set_ylabel('True labels'); \n",
    "ax.set_title('Confusion Matrix of Logistic Regression'); \n",
    "ax.xaxis.set_ticklabels(['Unfamiliar', 'Lie', 'True']); ax.yaxis.set_ticklabels(['Unfamiliar', 'Lie', 'True'])\n"
   ]
  },
  {
   "cell_type": "markdown",
   "metadata": {},
   "source": [
    "# 3. Convolutional Neural network (CNN) Model"
   ]
  },
  {
   "cell_type": "markdown",
   "metadata": {},
   "source": [
    "### Preparing Data for CNN"
   ]
  },
  {
   "cell_type": "markdown",
   "metadata": {},
   "source": [
    "One of the limitations in our data is the imbalance, since participants did not necesarily look at the same number of images. Our solution to solve the imbalance issue is to look at the minimum\n",
    "shape for all the stacked training data, which equals 250 rows after the data dimensionality is\n",
    "reduced. Considering the multidimensional nature of CNNs, all the input layer  will take on an input shape of 250 x 4: 4 electrodes * 250 data samples. And the output layers will have a size of 3 considering our 3 features."
   ]
  },
  {
   "cell_type": "code",
   "execution_count": 22,
   "metadata": {},
   "outputs": [
    {
     "name": "stdout",
     "output_type": "stream",
     "text": [
      "\n",
      "X_train.shape: (30, 250, 4), X_test.shape: (27, 250, 4)\n",
      "y_train.shape: (30,), y_test.shape: (27,)\n"
     ]
    }
   ],
   "source": [
    "# Initialize a list to store the shapes of all arrays in the datasets\n",
    "shapes = []\n",
    "\n",
    "# Loop through each dataset and append the shape of each array to the shapes list\n",
    "for item in [unfamiliar_train, lying_train, true_train, unfamiliar_test, lying_test, true_test]:\n",
    "    for array in item:\n",
    "        shapes.append(array.shape[0])\n",
    "print()\n",
    "\n",
    "# Find the minimum shape from the shapes list to ensure uniformity in data dimensions\n",
    "min_shape = min(shapes)\n",
    "\n",
    "# Stack the arrays for each category, ensuring they all have the same minimum shape\n",
    "# This prepares the data for training the model\n",
    "X_unf = np.stack([item.values[:min_shape, :] for item in unfamiliar_train])  # Label 0\n",
    "X_lying = np.stack([item.values[:min_shape, :] for item in lying_train])     # Label 1\n",
    "X_true = np.stack([item.values[:min_shape, :] for item in true_train])       # Label 2\n",
    "\n",
    "# Combine the data into a single array for training\n",
    "data = np.vstack((X_unf, X_lying, X_true))\n",
    "X_train = data\n",
    "\n",
    "# Create the corresponding labels for the training data\n",
    "y_train = np.array([0]*X_unf.shape[0] + [1]*X_lying.shape[0] + [2]*X_true.shape[0])\n",
    "\n",
    "# Repeat the same process for the test datasets\n",
    "X_unf = np.stack([item.values[:min_shape, :] for item in unfamiliar_test])  # Label 0\n",
    "X_lying = np.stack([item.values[:min_shape, :] for item in lying_test])     # Label 1\n",
    "X_true = np.stack([item.values[:min_shape, :] for item in true_test])       # Label 2\n",
    "\n",
    "# Combine the data into a single array for testing\n",
    "data = np.vstack((X_unf, X_lying, X_true))\n",
    "X_test = data\n",
    "\n",
    "# Create the corresponding labels for the test data\n",
    "y_test = np.array([0]*X_unf.shape[0] + [1]*X_lying.shape[0] + [2]*X_true.shape[0])\n",
    "\n",
    "# Print the shapes of the training and test datasets to verify the dimensions\n",
    "print(f\"X_train.shape: {X_train.shape}, X_test.shape: {X_test.shape}\")\n",
    "print(f\"y_train.shape: {y_train.shape}, y_test.shape: {y_test.shape}\")\n"
   ]
  },
  {
   "cell_type": "markdown",
   "metadata": {},
   "source": [
    "### Standardizing Data"
   ]
  },
  {
   "cell_type": "code",
   "execution_count": 23,
   "metadata": {},
   "outputs": [],
   "source": [
    "from sklearn.preprocessing import StandardScaler\n",
    "\n",
    "SS = StandardScaler()\n",
    "X_train_NN = SS.fit_transform(X_train.reshape(-1, X_train.shape[-1])).reshape(X_train.shape)\n",
    "X_test_NN  = SS.transform(X_test.reshape(-1, X_test.shape[-1])).reshape(X_test.shape)\n",
    "y_train_NN = y_train\n",
    "y_test_NN = y_test\n"
   ]
  },
  {
   "cell_type": "markdown",
   "metadata": {},
   "source": [
    "### CNN Model Arquitecture 1"
   ]
  },
  {
   "cell_type": "markdown",
   "metadata": {},
   "source": [
    "The results vary across the training iterations and as we tested out different networks. One noticeable issue arising over 100 epochs is our model overfitting (Training set performing much better than the testing set).\n",
    "One solution to overfitting was using keras.layers.Dropout which arbitrarily deactivates\n",
    "certain nodes. Our final dropout rate for this architecture was set as 0.5, thus, 50% of the\n",
    "nodes were arbitrarily deactivated over each training iteration. As a result, the architecture seemed to generally perform much better.\n"
   ]
  },
  {
   "cell_type": "code",
   "execution_count": 24,
   "metadata": {},
   "outputs": [
    {
     "name": "stderr",
     "output_type": "stream",
     "text": [
      "2024-08-08 14:16:48.936112: I tensorflow/core/platform/cpu_feature_guard.cc:151] This TensorFlow binary is optimized with oneAPI Deep Neural Network Library (oneDNN) to use the following CPU instructions in performance-critical operations:  AVX2 AVX512F FMA\n",
      "To enable them in other operations, rebuild TensorFlow with the appropriate compiler flags.\n"
     ]
    },
    {
     "name": "stdout",
     "output_type": "stream",
     "text": [
      
     ]
    },
    {
     "data": {
      "text/plain": [
       "<keras.callbacks.History at 0x1572c68c0>"
      ]
     },
     "execution_count": 24,
     "metadata": {},
     "output_type": "execute_result"
    }
   ],
   "source": [
    "# Set the dimensions of the input data\n",
    "n_0 = min_shape  # Number of time points per trial\n",
    "n_1 = 4          # Number of EEG channels\n",
    "\n",
    "# Import necessary libraries from Keras for building the neural network\n",
    "import keras\n",
    "from keras import Sequential\n",
    "from keras.layers import Conv1D, Dropout, MaxPooling1D, Flatten, Dense\n",
    "\n",
    "# Initialize the Sequential model\n",
    "model = Sequential()\n",
    "\n",
    "# Add the first convolutional layer with 32 filters, kernel size of 3, ReLU activation, and input shape\n",
    "model.add(Conv1D(filters=32, kernel_size=3, activation=\"relu\", input_shape=(n_0, n_1)))\n",
    "\n",
    "# Add a Dropout layer to prevent overfitting\n",
    "model.add(Dropout(0.5))\n",
    "\n",
    "# Add the second convolutional layer with the same specifications\n",
    "model.add(Conv1D(filters=32, kernel_size=3, activation=\"relu\"))\n",
    "\n",
    "# Add another Dropout layer\n",
    "model.add(Dropout(0.5))\n",
    "\n",
    "# Add the third convolutional layer with the same specifications\n",
    "model.add(Conv1D(filters=32, kernel_size=3, activation=\"relu\"))\n",
    "\n",
    "# Add another Dropout layer\n",
    "model.add(Dropout(0.5))\n",
    "\n",
    "# Add a MaxPooling layer to downsample the input\n",
    "model.add(MaxPooling1D(2))\n",
    "\n",
    "# Flatten the input for the Dense layers\n",
    "model.add(Flatten())\n",
    "\n",
    "# Add a Dense layer with 100 units and ReLU activation\n",
    "model.add(Dense(100, \"relu\"))\n",
    "\n",
    "# Add another Dropout layer\n",
    "model.add(Dropout(0.5))\n",
    "\n",
    "# Add the output Dense layer with 3 units and softmax activation for multi-class classification\n",
    "model.add(Dense(3, \"softmax\"))\n",
    "\n",
    "# Import TensorFlow for optimization\n",
    "import tensorflow as tf\n",
    "\n",
    "# Define the optimizer with a learning rate of 0.0001\n",
    "opt = tf.keras.optimizers.Adam(lr=0.0001)\n",
    "\n",
    "# Compile the model with sparse categorical cross-entropy loss and accuracy metric\n",
    "model.compile(loss='sparse_categorical_crossentropy', optimizer=opt, metrics=['accuracy'])\n",
    "\n",
    "# Fit the model on the training data for 100 epochs with a batch size of 18 and validate on the test data\n",
    "model.fit(X_train_NN, y_train_NN, epochs=100, batch_size=18, validation_data=(X_test_NN, y_test_NN))\n"
   ]
  },
  {
   "cell_type": "markdown",
   "metadata": {},
   "source": [
    "Looking at the output with the Confusion Matrix from this CNN model, we find better results than the Logistic Regression, which combines an overall accuracy of ∼ 51% as opposed to 35% with thetraditional Logistic Regression model. This model architecture tends to overpredict Unfamiliar label, and have a low accuracy rate of other predictions. "
   ]
  },
  {
   "cell_type": "code",
   "execution_count": 25,
   "metadata": {},
   "outputs": [
    {
     "name": "stdout",
     "output_type": "stream",
     "text": [
      "The accuracy score for this CNN is 51.157407407407405 %\n"
     ]
    },
    {
     "data": {
      "image/png": "[encoded data removed]",
      "text/plain": [
       "<Figure size 432x288 with 2 Axes>"
      ]
     },
     "metadata": {
      "needs_background": "light"
     },
     "output_type": "display_data"
    }
   ],
   "source": [
    "# Import ConfusionMatrixDisplay for visualizing the confusion matrix\n",
    "from sklearn.metrics import ConfusionMatrixDisplay\n",
    "\n",
    "# Predict the labels for the test data using the trained CNN model\n",
    "y_predictions = model.predict(x = X_test_NN)\n",
    "\n",
    "# Convert the predicted probabilities to class labels\n",
    "rounded_predictions = np.argmax(y_predictions, axis = 1)\n",
    "\n",
    "# Compute the confusion matrix, normalized by the number of predictions\n",
    "cm = confusion_matrix(y_test, rounded_predictions, normalize='pred')\n",
    "\n",
    "# Create a heatmap to visualize the confusion matrix\n",
    "ax = sns.heatmap(cm / np.sum(cm), annot=True, fmt='.2%', cmap='Blues')\n",
    "ax.set_title('CNN Confusion Matrix 1\\n\\n')\n",
    "ax.set_xlabel('\\nPredicted Label')\n",
    "ax.set_ylabel('True Label')\n",
    "ax.xaxis.set_ticklabels(['Unfamiliar', 'Lying', 'True'])\n",
    "ax.yaxis.set_ticklabels(['Unfamiliar', 'Lying', 'True'])\n",
    "\n",
    "# Calculate the overall accuracy score by summing the diagonal elements of the confusion matrix\n",
    "perc_acc = np.array(cm / np.sum(cm)).flatten()\n",
    "acc_score = perc_acc[0] + perc_acc[4] + perc_acc[8]\n",
    "print('The accuracy score for this CNN is', acc_score * 100, '%')\n"
   ]
  },
  {
   "cell_type": "markdown",
   "metadata": {},
   "source": [
    "### CNN Architecture 2:"
   ]
  },
  {
   "cell_type": "markdown",
   "metadata": {},
   "source": [
    "Since the dropout rate was a significant factor in reducing overfitting and improving our\n",
    "model accuracy, I increased the dropout rate to 0.7 (i.e., having 70% of the nodes\n",
    "arbitrarily deactivated over the model’s training iterations), and added 150 epochs."
   ]
  },
  {
   "cell_type": "code",
   "execution_count": 30,
   "metadata": {},
   "outputs": [
    {
     "name": "stdout",
     "output_type": "stream",
     "text": [
      "Epoch 1/150\n",
      "2/2 [==============================] - 1s 341ms/step - loss: 2.6284 - accuracy: 0.3333 - val_loss: 1.1318 - val_accuracy: 0.3333\n",
      "Epoch 2/150\n",
      "2/2 [==============================] - 0s 67ms/step - loss: 3.0026 - accuracy: 0.2333 - val_loss: 1.1176 - val_accuracy: 0.2963\n",
      "Epoch 3/150\n",
      "2/2 [==============================] - 0s 74ms/step - loss: 2.1787 - accuracy: 0.2667 - val_loss: 1.1117 - val_accuracy: 0.4074\n",
      "Epoch 4/150\n",
      "2/2 [==============================] - 0s 79ms/step - loss: 2.6617 - accuracy: 0.3333 - val_loss: 1.1079 - val_accuracy: 0.3333\n",
      "Epoch 5/150\n",
      "2/2 [==============================] - 0s 97ms/step - loss: 2.1004 - accuracy: 0.2000 - val_loss: 1.1063 - val_accuracy: 0.3333\n",
      "Epoch 6/150\n",
      "2/2 [==============================] - 0s 82ms/step - loss: 2.4639 - accuracy: 0.2000 - val_loss: 1.1054 - val_accuracy: 0.3704\n",
      "Epoch 7/150\n",
      "2/2 [==============================] - 0s 69ms/step - loss: 1.2469 - accuracy: 0.5667 - val_loss: 1.1049 - val_accuracy: 0.4074\n",
      "Epoch 8/150\n",
      "2/2 [==============================] - 0s 66ms/step - loss: 1.9336 - accuracy: 0.2667 - val_loss: 1.1047 - val_accuracy: 0.4444\n",
      "Epoch 9/150\n",
      "2/2 [==============================] - 0s 57ms/step - loss: 2.0009 - accuracy: 0.2667 - val_loss: 1.1050 - val_accuracy: 0.4074\n",
      "Epoch 10/150\n",
      "2/2 [==============================] - 0s 58ms/step - loss: 1.9334 - accuracy: 0.3000 - val_loss: 1.1048 - val_accuracy: 0.3704\n",
      "Epoch 11/150\n",
      "2/2 [==============================] - 0s 63ms/step - loss: 1.6775 - accuracy: 0.4000 - val_loss: 1.1037 - val_accuracy: 0.3333\n",
      "Epoch 12/150\n",
      "2/2 [==============================] - 0s 62ms/step - loss: 1.4447 - accuracy: 0.4667 - val_loss: 1.1021 - val_accuracy: 0.2963\n",
      "Epoch 13/150\n",
      "2/2 [==============================] - 0s 61ms/step - loss: 1.8390 - accuracy: 0.3667 - val_loss: 1.1009 - val_accuracy: 0.3333\n",
      "Epoch 14/150\n",
      "2/2 [==============================] - 0s 61ms/step - loss: 2.1637 - accuracy: 0.3667 - val_loss: 1.0995 - val_accuracy: 0.3333\n",
      "Epoch 15/150\n",
      "2/2 [==============================] - 0s 59ms/step - loss: 1.5509 - accuracy: 0.4000 - val_loss: 1.0985 - val_accuracy: 0.3333\n",
      "Epoch 16/150\n",
      "2/2 [==============================] - 0s 63ms/step - loss: 1.5694 - accuracy: 0.4000 - val_loss: 1.0977 - val_accuracy: 0.2963\n",
      "Epoch 17/150\n",
      "2/2 [==============================] - 0s 63ms/step - loss: 2.0403 - accuracy: 0.3000 - val_loss: 1.0968 - val_accuracy: 0.2963\n",
      "Epoch 18/150\n",
      "2/2 [==============================] - 0s 62ms/step - loss: 1.5437 - accuracy: 0.3667 - val_loss: 1.0961 - val_accuracy: 0.2593\n",
      "Epoch 19/150\n",
      "2/2 [==============================] - 0s 61ms/step - loss: 2.2175 - accuracy: 0.2000 - val_loss: 1.0959 - val_accuracy: 0.2593\n",
      "Epoch 20/150\n",
      "2/2 [==============================] - 0s 68ms/step - loss: 1.7836 - accuracy: 0.4000 - val_loss: 1.0956 - val_accuracy: 0.3333\n",
      "Epoch 21/150\n",
      "2/2 [==============================] - 0s 81ms/step - loss: 1.6912 - accuracy: 0.2667 - val_loss: 1.0956 - val_accuracy: 0.3333\n",
      "Epoch 22/150\n",
      "2/2 [==============================] - 0s 73ms/step - loss: 1.7315 - accuracy: 0.3667 - val_loss: 1.0956 - val_accuracy: 0.3704\n",
      "Epoch 23/150\n",
      "2/2 [==============================] - 0s 75ms/step - loss: 1.6409 - accuracy: 0.3000 - val_loss: 1.0958 - val_accuracy: 0.3704\n",
      "Epoch 24/150\n",
      "2/2 [==============================] - 0s 68ms/step - loss: 1.6385 - accuracy: 0.2667 - val_loss: 1.0958 - val_accuracy: 0.3704\n",
      "Epoch 25/150\n",
      "2/2 [==============================] - 0s 68ms/step - loss: 1.6454 - accuracy: 0.4000 - val_loss: 1.0957 - val_accuracy: 0.3704\n",
      "Epoch 26/150\n",
      "2/2 [==============================] - 0s 68ms/step - loss: 2.2226 - accuracy: 0.2667 - val_loss: 1.0955 - val_accuracy: 0.3333\n",
      "Epoch 27/150\n",
      "2/2 [==============================] - 0s 72ms/step - loss: 1.3218 - accuracy: 0.4333 - val_loss: 1.0950 - val_accuracy: 0.2963\n",
      "Epoch 28/150\n",
      "2/2 [==============================] - 0s 70ms/step - loss: 1.6556 - accuracy: 0.2333 - val_loss: 1.0948 - val_accuracy: 0.2963\n",
      "Epoch 29/150\n",
      "2/2 [==============================] - 0s 57ms/step - loss: 1.7255 - accuracy: 0.3000 - val_loss: 1.0949 - val_accuracy: 0.2963\n",
      "Epoch 30/150\n",
      "2/2 [==============================] - 0s 69ms/step - loss: 1.6623 - accuracy: 0.3000 - val_loss: 1.0948 - val_accuracy: 0.2963\n",
      "Epoch 31/150\n",
      "2/2 [==============================] - 0s 65ms/step - loss: 1.4555 - accuracy: 0.4667 - val_loss: 1.0948 - val_accuracy: 0.2963\n",
      "Epoch 32/150\n",
      "2/2 [==============================] - 0s 65ms/step - loss: 1.4572 - accuracy: 0.3667 - val_loss: 1.0950 - val_accuracy: 0.2963\n",
      "Epoch 33/150\n",
      "2/2 [==============================] - 0s 66ms/step - loss: 1.7418 - accuracy: 0.4000 - val_loss: 1.0953 - val_accuracy: 0.2963\n",
      "Epoch 34/150\n",
      "2/2 [==============================] - 0s 144ms/step - loss: 1.3658 - accuracy: 0.4667 - val_loss: 1.0955 - val_accuracy: 0.2593\n",
      "Epoch 35/150\n",
      "2/2 [==============================] - 0s 80ms/step - loss: 1.5552 - accuracy: 0.2333 - val_loss: 1.0958 - val_accuracy: 0.2963\n",
      "Epoch 36/150\n",
      "2/2 [==============================] - 0s 59ms/step - loss: 1.3104 - accuracy: 0.4333 - val_loss: 1.0956 - val_accuracy: 0.3333\n",
      "Epoch 37/150\n",
      "2/2 [==============================] - 0s 65ms/step - loss: 1.3805 - accuracy: 0.3667 - val_loss: 1.0956 - val_accuracy: 0.2963\n",
      "Epoch 38/150\n",
      "2/2 [==============================] - 0s 60ms/step - loss: 1.4276 - accuracy: 0.3667 - val_loss: 1.0957 - val_accuracy: 0.2963\n",
      "Epoch 39/150\n",
      "2/2 [==============================] - 0s 69ms/step - loss: 1.6527 - accuracy: 0.3333 - val_loss: 1.0958 - val_accuracy: 0.2963\n",
      "Epoch 40/150\n",
      "2/2 [==============================] - 0s 66ms/step - loss: 1.4541 - accuracy: 0.3000 - val_loss: 1.0957 - val_accuracy: 0.2963\n",
      "Epoch 41/150\n",
      "2/2 [==============================] - 0s 59ms/step - loss: 1.5156 - accuracy: 0.3333 - val_loss: 1.0953 - val_accuracy: 0.2593\n",
      "Epoch 42/150\n",
      "2/2 [==============================] - 0s 63ms/step - loss: 1.1580 - accuracy: 0.5000 - val_loss: 1.0949 - val_accuracy: 0.2593\n",
      "Epoch 43/150\n",
      "2/2 [==============================] - 0s 65ms/step - loss: 1.8872 - accuracy: 0.3333 - val_loss: 1.0943 - val_accuracy: 0.2222\n",
      "Epoch 44/150\n",
      "2/2 [==============================] - 0s 71ms/step - loss: 1.3492 - accuracy: 0.4667 - val_loss: 1.0941 - val_accuracy: 0.2963\n",
      "Epoch 45/150\n",
      "2/2 [==============================] - 0s 65ms/step - loss: 1.6932 - accuracy: 0.3333 - val_loss: 1.0939 - val_accuracy: 0.2963\n",
      "Epoch 46/150\n",
      "2/2 [==============================] - 0s 58ms/step - loss: 1.4287 - accuracy: 0.4667 - val_loss: 1.0939 - val_accuracy: 0.3333\n",
      "Epoch 47/150\n",
      "2/2 [==============================] - 0s 60ms/step - loss: 1.2548 - accuracy: 0.4000 - val_loss: 1.0939 - val_accuracy: 0.3704\n",
      "Epoch 48/150\n",
      "2/2 [==============================] - 0s 69ms/step - loss: 1.6131 - accuracy: 0.3667 - val_loss: 1.0939 - val_accuracy: 0.3704\n",
      "Epoch 49/150\n",
      "2/2 [==============================] - 0s 79ms/step - loss: 1.2940 - accuracy: 0.3667 - val_loss: 1.0934 - val_accuracy: 0.3704\n",
      "Epoch 50/150\n",
      "2/2 [==============================] - 0s 163ms/step - loss: 1.2421 - accuracy: 0.3333 - val_loss: 1.0928 - val_accuracy: 0.3704\n",
      "Epoch 51/150\n",
      "2/2 [==============================] - 0s 82ms/step - loss: 1.5922 - accuracy: 0.4333 - val_loss: 1.0923 - val_accuracy: 0.3704\n",
      "Epoch 52/150\n",
      "2/2 [==============================] - 0s 61ms/step - loss: 1.1609 - accuracy: 0.4333 - val_loss: 1.0917 - val_accuracy: 0.3333\n",
      "Epoch 53/150\n",
      "2/2 [==============================] - 0s 71ms/step - loss: 1.2713 - accuracy: 0.4000 - val_loss: 1.0909 - val_accuracy: 0.3704\n",
      "Epoch 54/150\n",
      "2/2 [==============================] - 0s 63ms/step - loss: 1.4741 - accuracy: 0.3000 - val_loss: 1.0901 - val_accuracy: 0.3704\n",
      "Epoch 55/150\n",
      "2/2 [==============================] - 0s 67ms/step - loss: 1.5159 - accuracy: 0.4333 - val_loss: 1.0894 - val_accuracy: 0.4074\n",
      "Epoch 56/150\n",
      "2/2 [==============================] - 0s 62ms/step - loss: 1.4336 - accuracy: 0.4333 - val_loss: 1.0887 - val_accuracy: 0.3704\n",
      "Epoch 57/150\n",
      "2/2 [==============================] - 0s 64ms/step - loss: 1.3731 - accuracy: 0.4000 - val_loss: 1.0878 - val_accuracy: 0.3704\n",
      "Epoch 58/150\n",
      "2/2 [==============================] - 0s 70ms/step - loss: 1.2979 - accuracy: 0.2667 - val_loss: 1.0873 - val_accuracy: 0.3704\n",
      "Epoch 59/150\n",
      "2/2 [==============================] - 0s 66ms/step - loss: 1.4580 - accuracy: 0.2667 - val_loss: 1.0870 - val_accuracy: 0.3704\n",
      "Epoch 60/150\n",
      "2/2 [==============================] - 0s 72ms/step - loss: 1.3828 - accuracy: 0.4333 - val_loss: 1.0868 - val_accuracy: 0.4074\n",
      "Epoch 61/150\n",
      "2/2 [==============================] - 0s 65ms/step - loss: 1.2931 - accuracy: 0.4000 - val_loss: 1.0869 - val_accuracy: 0.4444\n",
      "Epoch 62/150\n",
      "2/2 [==============================] - 0s 61ms/step - loss: 1.2170 - accuracy: 0.4000 - val_loss: 1.0870 - val_accuracy: 0.4074\n",
      "Epoch 63/150\n",
      "2/2 [==============================] - 0s 64ms/step - loss: 1.3276 - accuracy: 0.3333 - val_loss: 1.0870 - val_accuracy: 0.5185\n",
      "Epoch 64/150\n",
      "2/2 [==============================] - 0s 62ms/step - loss: 1.3001 - accuracy: 0.3667 - val_loss: 1.0869 - val_accuracy: 0.5185\n",
      "Epoch 65/150\n",
      "2/2 [==============================] - 0s 66ms/step - loss: 1.0253 - accuracy: 0.5667 - val_loss: 1.0867 - val_accuracy: 0.5185\n",
      "Epoch 66/150\n",
      "2/2 [==============================] - 0s 63ms/step - loss: 1.2035 - accuracy: 0.4333 - val_loss: 1.0867 - val_accuracy: 0.5185\n",
      "Epoch 67/150\n",
      "2/2 [==============================] - 0s 65ms/step - loss: 1.3627 - accuracy: 0.3333 - val_loss: 1.0866 - val_accuracy: 0.5556\n",
      "Epoch 68/150\n",
      "2/2 [==============================] - 0s 65ms/step - loss: 1.3568 - accuracy: 0.3000 - val_loss: 1.0866 - val_accuracy: 0.5556\n",
      "Epoch 69/150\n",
      "2/2 [==============================] - 0s 71ms/step - loss: 1.1307 - accuracy: 0.3667 - val_loss: 1.0863 - val_accuracy: 0.5556\n",
      "Epoch 70/150\n",
      "2/2 [==============================] - 0s 73ms/step - loss: 1.1661 - accuracy: 0.4333 - val_loss: 1.0861 - val_accuracy: 0.5556\n",
      "Epoch 71/150\n",
      "2/2 [==============================] - 0s 75ms/step - loss: 1.0847 - accuracy: 0.5000 - val_loss: 1.0858 - val_accuracy: 0.5556\n",
      "Epoch 72/150\n",
      "2/2 [==============================] - 0s 67ms/step - loss: 1.1565 - accuracy: 0.5000 - val_loss: 1.0855 - val_accuracy: 0.5556\n",
      "Epoch 73/150\n",
      "2/2 [==============================] - 0s 68ms/step - loss: 1.4761 - accuracy: 0.4000 - val_loss: 1.0855 - val_accuracy: 0.5556\n",
      "Epoch 74/150\n",
      "2/2 [==============================] - 0s 67ms/step - loss: 1.3252 - accuracy: 0.3000 - val_loss: 1.0854 - val_accuracy: 0.5185\n",
      "Epoch 75/150\n",
      "2/2 [==============================] - 0s 76ms/step - loss: 1.4184 - accuracy: 0.3000 - val_loss: 1.0856 - val_accuracy: 0.4815\n",
      "Epoch 76/150\n",
      "2/2 [==============================] - 0s 70ms/step - loss: 0.9358 - accuracy: 0.4667 - val_loss: 1.0859 - val_accuracy: 0.4815\n",
      "Epoch 77/150\n",
      "2/2 [==============================] - 0s 69ms/step - loss: 1.2495 - accuracy: 0.3000 - val_loss: 1.0863 - val_accuracy: 0.4444\n",
      "Epoch 78/150\n",
      "2/2 [==============================] - 0s 88ms/step - loss: 1.2740 - accuracy: 0.2667 - val_loss: 1.0867 - val_accuracy: 0.4444\n",
      "Epoch 79/150\n",
      "2/2 [==============================] - 0s 64ms/step - loss: 0.9167 - accuracy: 0.5667 - val_loss: 1.0870 - val_accuracy: 0.4815\n",
      "Epoch 80/150\n",
      "2/2 [==============================] - 0s 66ms/step - loss: 1.6104 - accuracy: 0.1667 - val_loss: 1.0874 - val_accuracy: 0.4815\n",
      "Epoch 81/150\n",
      "2/2 [==============================] - 0s 70ms/step - loss: 1.0895 - accuracy: 0.3667 - val_loss: 1.0879 - val_accuracy: 0.4815\n",
      "Epoch 82/150\n",
      "2/2 [==============================] - 0s 74ms/step - loss: 1.0473 - accuracy: 0.4333 - val_loss: 1.0882 - val_accuracy: 0.4815\n",
      "Epoch 83/150\n",
      "2/2 [==============================] - 0s 56ms/step - loss: 1.1587 - accuracy: 0.4333 - val_loss: 1.0884 - val_accuracy: 0.4815\n",
      "Epoch 84/150\n",
      "2/2 [==============================] - 0s 85ms/step - loss: 1.0173 - accuracy: 0.4667 - val_loss: 1.0886 - val_accuracy: 0.4815\n",
      "Epoch 85/150\n",
      "2/2 [==============================] - 0s 73ms/step - loss: 1.2820 - accuracy: 0.2333 - val_loss: 1.0889 - val_accuracy: 0.4815\n",
      "Epoch 86/150\n",
      "2/2 [==============================] - 0s 69ms/step - loss: 1.1223 - accuracy: 0.5000 - val_loss: 1.0891 - val_accuracy: 0.4815\n",
      "Epoch 87/150\n",
      "2/2 [==============================] - 0s 73ms/step - loss: 1.1190 - accuracy: 0.3667 - val_loss: 1.0893 - val_accuracy: 0.4815\n",
      "Epoch 88/150\n",
      "2/2 [==============================] - 0s 64ms/step - loss: 1.2035 - accuracy: 0.4000 - val_loss: 1.0895 - val_accuracy: 0.4444\n",
      "Epoch 89/150\n",
      "2/2 [==============================] - 0s 73ms/step - loss: 1.1011 - accuracy: 0.4333 - val_loss: 1.0896 - val_accuracy: 0.4444\n",
      "Epoch 90/150\n",
      "2/2 [==============================] - 0s 79ms/step - loss: 1.3302 - accuracy: 0.3333 - val_loss: 1.0896 - val_accuracy: 0.4074\n",
      "Epoch 91/150\n",
      "2/2 [==============================] - 0s 76ms/step - loss: 1.3302 - accuracy: 0.3333 - val_loss: 1.0895 - val_accuracy: 0.4074\n",
      "Epoch 92/150\n",
      "2/2 [==============================] - 0s 69ms/step - loss: 1.2472 - accuracy: 0.4000 - val_loss: 1.0895 - val_accuracy: 0.4074\n",
      "Epoch 93/150\n",
      "2/2 [==============================] - 0s 76ms/step - loss: 1.0830 - accuracy: 0.3667 - val_loss: 1.0894 - val_accuracy: 0.4074\n",
      "Epoch 94/150\n",
      "2/2 [==============================] - 0s 62ms/step - loss: 1.0470 - accuracy: 0.6000 - val_loss: 1.0891 - val_accuracy: 0.4074\n",
      "Epoch 95/150\n",
      "2/2 [==============================] - 0s 70ms/step - loss: 1.4167 - accuracy: 0.2000 - val_loss: 1.0891 - val_accuracy: 0.4444\n",
      "Epoch 96/150\n",
      "2/2 [==============================] - 0s 64ms/step - loss: 1.1265 - accuracy: 0.3667 - val_loss: 1.0892 - val_accuracy: 0.4444\n",
      "Epoch 97/150\n",
      "2/2 [==============================] - 0s 72ms/step - loss: 1.0544 - accuracy: 0.5333 - val_loss: 1.0891 - val_accuracy: 0.4444\n",
      "Epoch 98/150\n",
      "2/2 [==============================] - 0s 65ms/step - loss: 0.9938 - accuracy: 0.4333 - val_loss: 1.0889 - val_accuracy: 0.4444\n",
      "Epoch 99/150\n",
      "2/2 [==============================] - 0s 72ms/step - loss: 1.1159 - accuracy: 0.3667 - val_loss: 1.0888 - val_accuracy: 0.4444\n",
      "Epoch 100/150\n",
      "2/2 [==============================] - 0s 69ms/step - loss: 1.2718 - accuracy: 0.3333 - val_loss: 1.0888 - val_accuracy: 0.4444\n",
      "Epoch 101/150\n",
      "2/2 [==============================] - 0s 73ms/step - loss: 0.9564 - accuracy: 0.5000 - val_loss: 1.0887 - val_accuracy: 0.4074\n",
      "Epoch 102/150\n",
      "2/2 [==============================] - 0s 66ms/step - loss: 1.1822 - accuracy: 0.3667 - val_loss: 1.0886 - val_accuracy: 0.4074\n",
      "Epoch 103/150\n",
      "2/2 [==============================] - 0s 92ms/step - loss: 1.1041 - accuracy: 0.3333 - val_loss: 1.0885 - val_accuracy: 0.4444\n",
      "Epoch 104/150\n",
      "2/2 [==============================] - 0s 124ms/step - loss: 1.4197 - accuracy: 0.2000 - val_loss: 1.0885 - val_accuracy: 0.4444\n",
      "Epoch 105/150\n",
      "2/2 [==============================] - 0s 82ms/step - loss: 1.0688 - accuracy: 0.3667 - val_loss: 1.0886 - val_accuracy: 0.4444\n",
      "Epoch 106/150\n",
      "2/2 [==============================] - 0s 103ms/step - loss: 0.9548 - accuracy: 0.6000 - val_loss: 1.0882 - val_accuracy: 0.4444\n",
      "Epoch 107/150\n",
      "2/2 [==============================] - 0s 73ms/step - loss: 1.0459 - accuracy: 0.5000 - val_loss: 1.0879 - val_accuracy: 0.4444\n",
      "Epoch 108/150\n",
      "2/2 [==============================] - 0s 77ms/step - loss: 1.1182 - accuracy: 0.3667 - val_loss: 1.0876 - val_accuracy: 0.4444\n",
      "Epoch 109/150\n",
      "2/2 [==============================] - 0s 70ms/step - loss: 1.2699 - accuracy: 0.4000 - val_loss: 1.0875 - val_accuracy: 0.4444\n",
      "Epoch 110/150\n",
      "2/2 [==============================] - 0s 73ms/step - loss: 0.9804 - accuracy: 0.6000 - val_loss: 1.0875 - val_accuracy: 0.4444\n",
      "Epoch 111/150\n",
      "2/2 [==============================] - 0s 90ms/step - loss: 1.1022 - accuracy: 0.5000 - val_loss: 1.0875 - val_accuracy: 0.4444\n",
      "Epoch 112/150\n",
      "2/2 [==============================] - 0s 78ms/step - loss: 1.0338 - accuracy: 0.4000 - val_loss: 1.0874 - val_accuracy: 0.4444\n",
      "Epoch 113/150\n",
      "2/2 [==============================] - 0s 74ms/step - loss: 1.2020 - accuracy: 0.4000 - val_loss: 1.0872 - val_accuracy: 0.4444\n",
      "Epoch 114/150\n",
      "2/2 [==============================] - 0s 66ms/step - loss: 1.0540 - accuracy: 0.6000 - val_loss: 1.0873 - val_accuracy: 0.4815\n",
      "Epoch 115/150\n",
      "2/2 [==============================] - 0s 75ms/step - loss: 1.0013 - accuracy: 0.4000 - val_loss: 1.0874 - val_accuracy: 0.4815\n",
      "Epoch 116/150\n",
      "2/2 [==============================] - 0s 85ms/step - loss: 1.0496 - accuracy: 0.4667 - val_loss: 1.0875 - val_accuracy: 0.4815\n",
      "Epoch 117/150\n",
      "2/2 [==============================] - 0s 65ms/step - loss: 1.3065 - accuracy: 0.3000 - val_loss: 1.0876 - val_accuracy: 0.4815\n",
      "Epoch 118/150\n",
      "2/2 [==============================] - 0s 69ms/step - loss: 1.0037 - accuracy: 0.5000 - val_loss: 1.0878 - val_accuracy: 0.4815\n",
      "Epoch 119/150\n",
      "2/2 [==============================] - 0s 79ms/step - loss: 1.1602 - accuracy: 0.3667 - val_loss: 1.0881 - val_accuracy: 0.4815\n",
      "Epoch 120/150\n",
      "2/2 [==============================] - 0s 85ms/step - loss: 1.0563 - accuracy: 0.5000 - val_loss: 1.0884 - val_accuracy: 0.4815\n",
      "Epoch 121/150\n",
      "2/2 [==============================] - 0s 73ms/step - loss: 1.1014 - accuracy: 0.3667 - val_loss: 1.0885 - val_accuracy: 0.4815\n",
      "Epoch 122/150\n",
      "2/2 [==============================] - 0s 69ms/step - loss: 1.0454 - accuracy: 0.4333 - val_loss: 1.0886 - val_accuracy: 0.4815\n",
      "Epoch 123/150\n",
      "2/2 [==============================] - 0s 80ms/step - loss: 1.1686 - accuracy: 0.4333 - val_loss: 1.0886 - val_accuracy: 0.4815\n",
      "Epoch 124/150\n",
      "2/2 [==============================] - 0s 76ms/step - loss: 0.9933 - accuracy: 0.5000 - val_loss: 1.0886 - val_accuracy: 0.4815\n",
      "Epoch 125/150\n",
      "2/2 [==============================] - 0s 82ms/step - loss: 1.1970 - accuracy: 0.3333 - val_loss: 1.0886 - val_accuracy: 0.4815\n",
      "Epoch 126/150\n",
      "2/2 [==============================] - 0s 78ms/step - loss: 1.1635 - accuracy: 0.3667 - val_loss: 1.0886 - val_accuracy: 0.4815\n",
      "Epoch 127/150\n",
      "2/2 [==============================] - 0s 151ms/step - loss: 1.0744 - accuracy: 0.4667 - val_loss: 1.0885 - val_accuracy: 0.4444\n",
      "Epoch 128/150\n",
      "2/2 [==============================] - 0s 115ms/step - loss: 1.0781 - accuracy: 0.5000 - val_loss: 1.0886 - val_accuracy: 0.4444\n",
      "Epoch 129/150\n",
      "2/2 [==============================] - 0s 226ms/step - loss: 1.2126 - accuracy: 0.4333 - val_loss: 1.0889 - val_accuracy: 0.4444\n",
      "Epoch 130/150\n",
      "2/2 [==============================] - 0s 134ms/step - loss: 1.0236 - accuracy: 0.4667 - val_loss: 1.0890 - val_accuracy: 0.4444\n",
      "Epoch 131/150\n",
      "2/2 [==============================] - 0s 90ms/step - loss: 1.2237 - accuracy: 0.5000 - val_loss: 1.0891 - val_accuracy: 0.4444\n",
      "Epoch 132/150\n",
      "2/2 [==============================] - 0s 81ms/step - loss: 1.1160 - accuracy: 0.4667 - val_loss: 1.0890 - val_accuracy: 0.4444\n",
      "Epoch 133/150\n",
      "2/2 [==============================] - 0s 73ms/step - loss: 0.9250 - accuracy: 0.6667 - val_loss: 1.0890 - val_accuracy: 0.4444\n",
      "Epoch 134/150\n",
      "2/2 [==============================] - 0s 94ms/step - loss: 0.9073 - accuracy: 0.5000 - val_loss: 1.0887 - val_accuracy: 0.4074\n",
      "Epoch 135/150\n",
      "2/2 [==============================] - 0s 80ms/step - loss: 1.0967 - accuracy: 0.3667 - val_loss: 1.0885 - val_accuracy: 0.4074\n",
      "Epoch 136/150\n",
      "2/2 [==============================] - 0s 72ms/step - loss: 1.0022 - accuracy: 0.5000 - val_loss: 1.0886 - val_accuracy: 0.4074\n",
      "Epoch 137/150\n",
      "2/2 [==============================] - 0s 88ms/step - loss: 1.2034 - accuracy: 0.3667 - val_loss: 1.0888 - val_accuracy: 0.4074\n",
      "Epoch 138/150\n",
      "2/2 [==============================] - 0s 113ms/step - loss: 1.2070 - accuracy: 0.2667 - val_loss: 1.0891 - val_accuracy: 0.4074\n",
      "Epoch 139/150\n",
      "2/2 [==============================] - 0s 92ms/step - loss: 1.2044 - accuracy: 0.2667 - val_loss: 1.0896 - val_accuracy: 0.4074\n",
      "Epoch 140/150\n",
      "2/2 [==============================] - 0s 110ms/step - loss: 1.0392 - accuracy: 0.4000 - val_loss: 1.0899 - val_accuracy: 0.4074\n",
      "Epoch 141/150\n",
      "2/2 [==============================] - 0s 97ms/step - loss: 1.2800 - accuracy: 0.4000 - val_loss: 1.0900 - val_accuracy: 0.3704\n",
      "Epoch 142/150\n",
      "2/2 [==============================] - 0s 116ms/step - loss: 1.0356 - accuracy: 0.4333 - val_loss: 1.0901 - val_accuracy: 0.3333\n",
      "Epoch 143/150\n",
      "2/2 [==============================] - 0s 111ms/step - loss: 1.1928 - accuracy: 0.3333 - val_loss: 1.0900 - val_accuracy: 0.3704\n",
      "Epoch 144/150\n",
      "2/2 [==============================] - 0s 109ms/step - loss: 1.0610 - accuracy: 0.3667 - val_loss: 1.0898 - val_accuracy: 0.3704\n",
      "Epoch 145/150\n",
      "2/2 [==============================] - 0s 97ms/step - loss: 0.8231 - accuracy: 0.6667 - val_loss: 1.0897 - val_accuracy: 0.3704\n",
      "Epoch 146/150\n",
      "2/2 [==============================] - 0s 106ms/step - loss: 1.1673 - accuracy: 0.5000 - val_loss: 1.0897 - val_accuracy: 0.3704\n",
      "Epoch 147/150\n",
      "2/2 [==============================] - 0s 132ms/step - loss: 1.1186 - accuracy: 0.3667 - val_loss: 1.0896 - val_accuracy: 0.3704\n",
      "Epoch 148/150\n",
      "2/2 [==============================] - 0s 102ms/step - loss: 1.2339 - accuracy: 0.2667 - val_loss: 1.0896 - val_accuracy: 0.3704\n",
      "Epoch 149/150\n",
      "2/2 [==============================] - 0s 100ms/step - loss: 1.0030 - accuracy: 0.3667 - val_loss: 1.0898 - val_accuracy: 0.3704\n",
      "Epoch 150/150\n",
      "2/2 [==============================] - 0s 180ms/step - loss: 1.0764 - accuracy: 0.4000 - val_loss: 1.0900 - val_accuracy: 0.3704\n"
     ]
    },
    {
     "data": {
      "text/plain": [
       "<keras.callbacks.History at 0x157fe7dc0>"
      ]
     },
     "execution_count": 30,
     "metadata": {},
     "output_type": "execute_result"
    }
   ],
   "source": [
    "# Set the dimensions of the input data\n",
    "n_0 = min_shape  # Number of time points per trial\n",
    "n_1 = 4          # Number of EEG channels\n",
    "\n",
    "# Import necessary libraries from Keras for building the neural network\n",
    "import keras\n",
    "from keras import Sequential\n",
    "from keras.layers import Conv1D, Dropout, MaxPooling1D, Flatten, Dense\n",
    "\n",
    "# Initialize the Sequential model\n",
    "model = Sequential()\n",
    "\n",
    "# Add the first convolutional layer with 32 filters, kernel size of 3, ReLU activation, and input shape\n",
    "model.add(Conv1D(filters=32, kernel_size=3, activation=\"relu\", input_shape=(n_0, n_1)))\n",
    "\n",
    "# Add a Dropout layer with 70% dropout rate to prevent overfitting\n",
    "model.add(Dropout(0.7))\n",
    "\n",
    "# Add the second convolutional layer with the same specifications\n",
    "model.add(Conv1D(filters=32, kernel_size=3, activation=\"relu\"))\n",
    "\n",
    "# Add another Dropout layer with 70% dropout rate\n",
    "model.add(Dropout(0.7))\n",
    "\n",
    "# Add the third convolutional layer with the same specifications\n",
    "model.add(Conv1D(filters=32, kernel_size=3, activation=\"relu\"))\n",
    "\n",
    "# Add another Dropout layer with 70% dropout rate\n",
    "model.add(Dropout(0.7))\n",
    "\n",
    "# Add a MaxPooling layer to downsample the input\n",
    "model.add(MaxPooling1D(2))\n",
    "\n",
    "# Flatten the input for the Dense layers\n",
    "model.add(Flatten())\n",
    "\n",
    "# Add a Dense layer with 100 units and ReLU activation\n",
    "model.add(Dense(100, \"relu\"))\n",
    "\n",
    "# Add another Dropout layer with 50% dropout rate\n",
    "model.add(Dropout(0.5))\n",
    "\n",
    "# Add the output Dense layer with 3 units and softmax activation for multi-class classification\n",
    "model.add(Dense(3, \"softmax\"))\n",
    "\n",
    "# Import TensorFlow for optimization\n",
    "import tensorflow as tf\n",
    "\n",
    "# Define the optimizer with a learning rate of 0.0001\n",
    "opt = tf.keras.optimizers.Adam(lr=0.0001)\n",
    "\n",
    "# Compile the model with sparse categorical cross-entropy loss and accuracy metric\n",
    "model.compile(loss='sparse_categorical_crossentropy', optimizer=opt, metrics=['accuracy'])\n",
    "\n",
    "# Fit the model on the training data for 150 epochs with a batch size of 18 and validate on the test data\n",
    "model.fit(X_train_NN, y_train_NN, epochs=150, batch_size=18, validation_data=(X_test_NN, y_test_NN))\n"
   ]
  },
  {
   "cell_type": "markdown",
   "metadata": {},
   "source": [
    "We notice that the model does not perform as well, with a 39% prediction accuracy."
   ]
  },
  {
   "cell_type": "code",
   "execution_count": 31,
   "metadata": {},
   "outputs": [
    {
     "name": "stdout",
     "output_type": "stream",
     "text": [
      "The accuracy score for this CNN is 39.64646464646464 %\n"
     ]
    },
    {
     "data": {
      "image/png": "[encoded data removed]",
      "text/plain": [
       "<Figure size 432x288 with 2 Axes>"
      ]
     },
     "metadata": {
      "needs_background": "light"
     },
     "output_type": "display_data"
    }
   ],
   "source": [
    "# Import ConfusionMatrixDisplay for visualizing the confusion matrix\n",
    "from sklearn.metrics import ConfusionMatrixDisplay\n",
    "\n",
    "# Predict the labels for the test data using the trained CNN model\n",
    "y_predictions = model.predict(x = X_test_NN)\n",
    "\n",
    "# Convert the predicted probabilities to class labels\n",
    "rounded_predictions = np.argmax(y_predictions, axis = 1)\n",
    "\n",
    "# Compute the confusion matrix, normalized by the number of predictions\n",
    "cm = confusion_matrix(y_test, rounded_predictions, normalize='pred')\n",
    "\n",
    "# Create a heatmap to visualize the confusion matrix\n",
    "ax = sns.heatmap(cm / np.sum(cm), annot=True, fmt='.2%', cmap='Blues')\n",
    "ax.set_title('CNN Confusion Matrix 2\\n\\n')\n",
    "ax.set_xlabel('\\nPredicted Label')\n",
    "ax.set_ylabel('True Label')\n",
    "ax.xaxis.set_ticklabels(['Unfamiliar', 'Lying', 'True'])\n",
    "ax.yaxis.set_ticklabels(['Unfamiliar', 'Lying', 'True'])\n",
    "\n",
    "# Calculate the overall accuracy score by summing the diagonal elements of the confusion matrix\n",
    "perc_acc = np.array(cm / np.sum(cm)).flatten()\n",
    "acc_score = perc_acc[0] + perc_acc[4] + perc_acc[8]\n",
    "print('The accuracy score for this CNN is', acc_score * 100, '%')\n",
    "\n"
   ]
  },
  {
   "cell_type": "markdown",
   "metadata": {},
   "source": [
    "# 4. Comparative Analysis"
   ]
  },
  {
   "cell_type": "markdown",
   "metadata": {},
   "source": [
    "Based on the results, the CNN models outperformed the logistic regression models for multi-class regression with usually a 10-20% accuracy increase depending on the network architecture. The accuracy of the CNN models was sensitive to changes in the dropout rate, which caused imbalances in false label predictions. Despite preprocessing the data to have equal datapoints for each label, the prediction imbalance persisted, likely due to the limited dataset size. CNN models also  perform better with larger datasets.\n",
    "\n",
    "For future research, it would be beneficial to use a CNN with a much larger dataset and repeat the experiment. To address imbalances, techniques such as resampling can be employed to balance the dataset by under-sampling the majority class or over-sampling the minority class. Additionally, exploring other machine learning techniques like XGBoost could further improve accuracy in multi-class regression problems.\n"
   ]
  }
 ],
 "metadata": {
  "interpreter": {
   "hash": "aee8b7b246df8f9039afb4144a1f6fd8d2ca17a180786b69acc140d282b71a49"
  },
  "kernelspec": {
   "display_name": "Python 3.10.1 64-bit",
   "language": "python",
   "name": "python3"
  },
  "language_info": {
   "codemirror_mode": {
    "name": "ipython",
    "version": 3
   },
   "file_extension": ".py",
   "mimetype": "text/x-python",
   "name": "python",
   "nbconvert_exporter": "python",
   "pygments_lexer": "ipython3",
   "version": "3.10.1"
  },
  "orig_nbformat": 4,
  "vscode": {
   "interpreter": {
    "hash": "9c016230269301f4fc7bc6a92511250cd3acf7a2770f38aa5afc16993883c93d"
   }
  }
 },
 "nbformat": 4,
 "nbformat_minor": 2
}
